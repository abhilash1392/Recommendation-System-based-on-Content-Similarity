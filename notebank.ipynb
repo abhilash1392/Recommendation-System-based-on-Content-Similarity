{
 "cells": [
  {
   "cell_type": "code",
   "execution_count": 1,
   "id": "smooth-incentive",
   "metadata": {},
   "outputs": [],
   "source": [
    "# Importing Libraries \n",
    "import numpy as np \n",
    "import pandas as pd \n",
    "from sklearn.feature_extraction.text import TfidfVectorizer, ENGLISH_STOP_WORDS\n",
    "import matplotlib.pyplot as plt \n",
    "import nltk \n",
    "from nltk import word_tokenize\n",
    "from sklearn.metrics.pairwise import cosine_similarity"
   ]
  },
  {
   "cell_type": "code",
   "execution_count": 23,
   "id": "smooth-wisdom",
   "metadata": {},
   "outputs": [],
   "source": [
    "def recommend_movies(name):\n",
    "    # Importing the data into a csv file\n",
    "    df = pd.read_csv('netflix_titles.csv')\n",
    "    # Removing any null values \n",
    "    for i in list(df.columns):\n",
    "        df[i]=df[i].fillna('')\n",
    "    df['text'] = df['title']+' '+df['director']+' '+df['cast']+' '+df['listed_in']+' '+df['description']\n",
    "#     print(df['text'][0])\n",
    "    # Creating vectorizer\n",
    "    tfv = TfidfVectorizer(ngram_range=(1,2),stop_words='english',tokenizer=word_tokenize)\n",
    "    text_features = tfv.fit_transform(df['text'])\n",
    "    similarity_matrix = cosine_similarity(text_features)\n",
    "    if name not in list(df['title']):\n",
    "        return 'Sorry this movie is not in our database'\n",
    "    else:\n",
    "        movie_index = df[df['title']==name].index\n",
    "        movie_similarity =similarity_matrix[movie_index]\n",
    "        movie_data = pd.DataFrame(movie_similarity[0],columns=['cosine_similarity'])\n",
    "        movie_data['index'] = np.arange(df.shape[0])\n",
    "        movie_data = movie_data.sort_values(by='cosine_similarity',ascending=False)\n",
    "        topn = 10\n",
    "        movie_ids = movie_data['index'][1:topn]\n",
    "        recommended_movies = []\n",
    "        for temp in movie_ids:\n",
    "            movie = df['title'][temp]\n",
    "            recommended_movies.append(movie)\n",
    "        return recommended_movies"
   ]
  },
  {
   "cell_type": "code",
   "execution_count": 24,
   "id": "improving-telescope",
   "metadata": {},
   "outputs": [
    {
     "data": {
      "text/plain": [
       "['Transformers Prime',\n",
       " 'Bobbleheads The Movie',\n",
       " 'Lego DC Comics: Batman Be-Leaguered',\n",
       " 'The Assassination of Gianni Versace',\n",
       " 'Results',\n",
       " 'Hollywood',\n",
       " 'House of Cards',\n",
       " 'Yu-Gi-Oh!',\n",
       " \"God's Not Dead: A Light in Darkness\"]"
      ]
     },
     "execution_count": 24,
     "metadata": {},
     "output_type": "execute_result"
    }
   ],
   "source": [
    "x=recommend_movies('Transformers: Robots in Disguise')\n",
    "\n",
    "x"
   ]
  }
 ],
 "metadata": {
  "kernelspec": {
   "display_name": "Python 3",
   "language": "python",
   "name": "python3"
  },
  "language_info": {
   "codemirror_mode": {
    "name": "ipython",
    "version": 3
   },
   "file_extension": ".py",
   "mimetype": "text/x-python",
   "name": "python",
   "nbconvert_exporter": "python",
   "pygments_lexer": "ipython3",
   "version": "3.7.6"
  }
 },
 "nbformat": 4,
 "nbformat_minor": 5
}
